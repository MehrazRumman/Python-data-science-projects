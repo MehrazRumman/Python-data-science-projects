{
 "cells": [
  {
   "cell_type": "markdown",
   "id": "12663d5b",
   "metadata": {},
   "source": [
    "# Importing Necessary Packages"
   ]
  },
  {
   "cell_type": "code",
   "execution_count": 6,
   "id": "29d709b6",
   "metadata": {},
   "outputs": [],
   "source": [
    "import operator as op\n",
    "import numpy as np\n",
    "import pandas as pd\n",
    "import requests\n",
    "import param \n",
    "import panel as pn\n",
    "import hvplot.pandas\n",
    "import hvplot.streamz\n",
    "import holoviews as hv\n",
    "from holoviews.element.tiles import EsriImagery \n",
    "from holoviews.selection import link_selections\n",
    "from datashader.utils import lnglat_to_meters\n",
    "from streamz.dataframe import PeriodicDataFrame"
   ]
  },
  {
   "cell_type": "code",
   "execution_count": 7,
   "id": "de8b3dff",
   "metadata": {},
   "outputs": [],
   "source": [
    "openweathermap_api_key='4adabbbbdfa3c4a90003b2a12ed9da2f'"
   ]
  },
  {
   "cell_type": "code",
   "execution_count": 8,
   "id": "e4af6dd6",
   "metadata": {},
   "outputs": [],
   "source": [
    "def weather_data( cities, openweathermap_api_key=openweathermap_api_key):\n",
    "    \"\"\"Get weather data for some cities using the open_weather_map_api  \"\"\"\n",
    "    list=[]\n",
    "    for c in cities:\n",
    "         res = requests.get(f'http://api.openweathermap.org/data/2.5/weather?q={c}&appid={openweathermap_api_key}&units=imperial')\n",
    "         list.append(res.json())\n",
    "         \n",
    "        \n",
    "    df=pd.DataFrame(list)\n",
    "    df['lon']=df['coord'].map(op.itemgetter('lon'))\n",
    "    df['lat']=df['coord'].map(op.itemgetter('lat'))\n",
    "    df['Temprature']=df['main'].map(op.itemgetter('temp'))\n",
    "    df['Humidity']=df['main'].map(op.itemgetter('humidity'))\n",
    "    df['Wind_Speed']=df['wind'].map(op.itemgetter('speed'))\n",
    "   \n",
    "    return df[['name','lon','lat','Temprature','Humidity','Wind_Speed']]\n"
   ]
  },
  {
   "cell_type": "code",
   "execution_count": 9,
   "id": "1869d73b",
   "metadata": {},
   "outputs": [
    {
     "data": {},
     "metadata": {},
     "output_type": "display_data"
    },
    {
     "data": {},
     "metadata": {},
     "output_type": "display_data"
    },
    {
     "data": {
      "application/vnd.holoviews_exec.v0+json": "",
      "text/html": [
       "<div id='1002'>\n",
       "\n",
       "\n",
       "\n",
       "\n",
       "\n",
       "  <div class=\"bk-root\" id=\"14209456-d544-4537-9a5c-9d6352286267\" data-root-id=\"1002\"></div>\n",
       "</div>\n",
       "<script type=\"application/javascript\">(function(root) {\n",
       "  function embed_document(root) {\n",
       "    var docs_json = {\"6df66a8a-853a-41e8-b916-8998adc4d79d\":{\"defs\":[{\"extends\":null,\"module\":null,\"name\":\"ReactiveHTML1\",\"overrides\":[],\"properties\":[]},{\"extends\":null,\"module\":null,\"name\":\"FlexBox1\",\"overrides\":[],\"properties\":[{\"default\":\"flex-start\",\"kind\":null,\"name\":\"align_content\"},{\"default\":\"flex-start\",\"kind\":null,\"name\":\"align_items\"},{\"default\":\"row\",\"kind\":null,\"name\":\"flex_direction\"},{\"default\":\"wrap\",\"kind\":null,\"name\":\"flex_wrap\"},{\"default\":\"flex-start\",\"kind\":null,\"name\":\"justify_content\"}]},{\"extends\":null,\"module\":null,\"name\":\"TemplateActions1\",\"overrides\":[],\"properties\":[{\"default\":0,\"kind\":null,\"name\":\"open_modal\"},{\"default\":0,\"kind\":null,\"name\":\"close_modal\"}]},{\"extends\":null,\"module\":null,\"name\":\"MaterialTemplateActions1\",\"overrides\":[],\"properties\":[{\"default\":0,\"kind\":null,\"name\":\"open_modal\"},{\"default\":0,\"kind\":null,\"name\":\"close_modal\"}]}],\"roots\":{\"references\":[{\"attributes\":{\"below\":[{\"id\":\"1015\"}],\"center\":[{\"id\":\"1018\"},{\"id\":\"1022\"}],\"height\":300,\"left\":[{\"id\":\"1019\"}],\"margin\":[5,5,5,5],\"min_border_bottom\":10,\"min_border_left\":10,\"min_border_right\":10,\"min_border_top\":10,\"renderers\":[{\"id\":\"1042\"}],\"sizing_mode\":\"fixed\",\"title\":{\"id\":\"1007\"},\"toolbar\":{\"id\":\"1029\"},\"width\":700,\"x_range\":{\"id\":\"1003\"},\"x_scale\":{\"id\":\"1011\"},\"y_range\":{\"id\":\"1004\"},\"y_scale\":{\"id\":\"1013\"}},\"id\":\"1006\",\"subtype\":\"Figure\",\"type\":\"Plot\"},{\"attributes\":{\"tools\":[{\"id\":\"1097\"},{\"id\":\"1115\"},{\"id\":\"1116\"},{\"id\":\"1117\"},{\"id\":\"1118\"},{\"id\":\"1119\"}]},\"id\":\"1121\",\"type\":\"Toolbar\"},{\"attributes\":{\"callback\":null,\"renderers\":[{\"id\":\"1042\"}],\"tags\":[\"hv_created\"],\"tooltips\":[[\"time\",\"@{time}\"],[\"Temprature\",\"@{Temprature}\"]]},\"id\":\"1005\",\"type\":\"HoverTool\"},{\"attributes\":{\"tags\":[[[\"time\",\"time\",null]]]},\"id\":\"1003\",\"type\":\"Range1d\"},{\"attributes\":{\"coordinates\":null,\"data_source\":{\"id\":\"1220\"},\"glyph\":{\"id\":\"1223\"},\"group\":null,\"hover_glyph\":null,\"muted_glyph\":{\"id\":\"1225\"},\"nonselection_glyph\":{\"id\":\"1224\"},\"selection_glyph\":{\"id\":\"1228\"},\"view\":{\"id\":\"1227\"}},\"id\":\"1226\",\"type\":\"GlyphRenderer\"},{\"attributes\":{\"mantissas\":[1,2,5],\"max_interval\":500.0,\"num_minor_ticks\":0},\"id\":\"1061\",\"type\":\"AdaptiveTicker\"},{\"attributes\":{},\"id\":\"1024\",\"type\":\"PanTool\"},{\"attributes\":{\"base\":24,\"mantissas\":[1,2,4,6,8,12],\"max_interval\":43200000.0,\"min_interval\":3600000.0,\"num_minor_ticks\":0},\"id\":\"1063\",\"type\":\"AdaptiveTicker\"},{\"attributes\":{\"mantissas\":[1,2,5],\"max_interval\":500.0,\"num_minor_ticks\":0},\"id\":\"1153\",\"type\":\"AdaptiveTicker\"},{\"attributes\":{},\"id\":\"1141\",\"type\":\"BasicTickFormatter\"},{\"attributes\":{\"data\":{\"Wind_Speed\":{\"__ndarray__\":\"\",\"dtype\":\"float64\",\"order\":\"little\",\"shape\":[0]},\"time\":{\"__ndarray__\":\"\",\"dtype\":\"float64\",\"order\":\"little\",\"shape\":[0]}},\"selected\":{\"id\":\"1221\"},\"selection_policy\":{\"id\":\"1242\"}},\"id\":\"1220\",\"type\":\"ColumnDataSource\"},{\"attributes\":{\"num_minor_ticks\":5,\"tickers\":[{\"id\":\"1061\"},{\"id\":\"1062\"},{\"id\":\"1063\"},{\"id\":\"1064\"},{\"id\":\"1065\"},{\"id\":\"1066\"},{\"id\":\"1067\"},{\"id\":\"1068\"},{\"id\":\"1069\"},{\"id\":\"1070\"},{\"id\":\"1071\"},{\"id\":\"1072\"}]},\"id\":\"1016\",\"type\":\"DatetimeTicker\"},{\"attributes\":{\"callback\":null,\"renderers\":[{\"id\":\"1226\"}],\"tags\":[\"hv_created\"],\"tooltips\":[[\"time\",\"@{time}\"],[\"Wind_Speed\",\"@{Wind_Speed}\"]]},\"id\":\"1189\",\"type\":\"HoverTool\"},{\"attributes\":{},\"id\":\"1234\",\"type\":\"AllLabels\"},{\"attributes\":{\"line_alpha\":0.1,\"line_color\":\"#30a2da\",\"line_width\":2,\"x\":{\"field\":\"time\"},\"y\":{\"field\":\"Temprature\"}},\"id\":\"1040\",\"type\":\"Line\"},{\"attributes\":{},\"id\":\"1195\",\"type\":\"LinearScale\"},{\"attributes\":{\"line_color\":\"#30a2da\",\"line_width\":2,\"x\":{\"field\":\"time\"},\"y\":{\"field\":\"Temprature\"}},\"id\":\"1044\",\"type\":\"Line\"},{\"attributes\":{\"tools\":[{\"id\":\"1005\"},{\"id\":\"1023\"},{\"id\":\"1024\"},{\"id\":\"1025\"},{\"id\":\"1026\"},{\"id\":\"1027\"}]},\"id\":\"1029\",\"type\":\"Toolbar\"},{\"attributes\":{},\"id\":\"1138\",\"type\":\"DatetimeTickFormatter\"},{\"attributes\":{\"days\":[1,15]},\"id\":\"1067\",\"type\":\"DaysTicker\"},{\"attributes\":{\"axis_label\":\"time\",\"coordinates\":null,\"formatter\":{\"id\":\"1138\"},\"group\":null,\"major_label_policy\":{\"id\":\"1139\"},\"ticker\":{\"id\":\"1108\"}},\"id\":\"1107\",\"type\":\"DatetimeAxis\"},{\"attributes\":{},\"id\":\"1129\",\"type\":\"Selection\"},{\"attributes\":{\"tags\":[[[\"Temprature\",\"Temprature\",null]]]},\"id\":\"1004\",\"type\":\"Range1d\"},{\"attributes\":{\"line_color\":\"#30a2da\",\"line_width\":2,\"x\":{\"field\":\"time\"},\"y\":{\"field\":\"Humidity\"}},\"id\":\"1136\",\"type\":\"Line\"},{\"attributes\":{\"days\":[1,2,3,4,5,6,7,8,9,10,11,12,13,14,15,16,17,18,19,20,21,22,23,24,25,26,27,28,29,30,31]},\"id\":\"1064\",\"type\":\"DaysTicker\"},{\"attributes\":{\"source\":{\"id\":\"1036\"}},\"id\":\"1043\",\"type\":\"CDSView\"},{\"attributes\":{},\"id\":\"1139\",\"type\":\"AllLabels\"},{\"attributes\":{\"months\":[0,2,4,6,8,10]},\"id\":\"1069\",\"type\":\"MonthsTicker\"},{\"attributes\":{\"months\":[0,1,2,3,4,5,6,7,8,9,10,11]},\"id\":\"1068\",\"type\":\"MonthsTicker\"},{\"attributes\":{\"days\":[1,2,3,4,5,6,7,8,9,10,11,12,13,14,15,16,17,18,19,20,21,22,23,24,25,26,27,28,29,30,31]},\"id\":\"1156\",\"type\":\"DaysTicker\"},{\"attributes\":{\"below\":[{\"id\":\"1199\"}],\"center\":[{\"id\":\"1202\"},{\"id\":\"1206\"}],\"height\":300,\"left\":[{\"id\":\"1203\"}],\"margin\":[5,5,5,5],\"min_border_bottom\":10,\"min_border_left\":10,\"min_border_right\":10,\"min_border_top\":10,\"renderers\":[{\"id\":\"1226\"}],\"sizing_mode\":\"fixed\",\"title\":{\"id\":\"1191\"},\"toolbar\":{\"id\":\"1213\"},\"width\":700,\"x_range\":{\"id\":\"1003\"},\"x_scale\":{\"id\":\"1195\"},\"y_range\":{\"id\":\"1188\"},\"y_scale\":{\"id\":\"1197\"}},\"id\":\"1190\",\"subtype\":\"Figure\",\"type\":\"Plot\"},{\"attributes\":{\"base\":60,\"mantissas\":[1,2,5,10,15,20,30],\"max_interval\":1800000.0,\"min_interval\":1000.0,\"num_minor_ticks\":0},\"id\":\"1062\",\"type\":\"AdaptiveTicker\"},{\"attributes\":{\"children\":[{\"id\":\"1006\"},{\"id\":\"1098\"},{\"id\":\"1190\"}],\"margin\":[0,0,0,0],\"name\":\"Row01576\"},\"id\":\"1002\",\"type\":\"Row\"},{\"attributes\":{},\"id\":\"1050\",\"type\":\"AllLabels\"},{\"attributes\":{\"source\":{\"id\":\"1128\"}},\"id\":\"1135\",\"type\":\"CDSView\"},{\"attributes\":{\"base\":24,\"mantissas\":[1,2,4,6,8,12],\"max_interval\":43200000.0,\"min_interval\":3600000.0,\"num_minor_ticks\":0},\"id\":\"1155\",\"type\":\"AdaptiveTicker\"},{\"attributes\":{},\"id\":\"1025\",\"type\":\"WheelZoomTool\"},{\"attributes\":{},\"id\":\"1020\",\"type\":\"BasicTicker\"},{\"attributes\":{\"days\":[1,4,7,10,13,16,19,22,25,28]},\"id\":\"1065\",\"type\":\"DaysTicker\"},{\"attributes\":{},\"id\":\"1027\",\"type\":\"ResetTool\"},{\"attributes\":{\"coordinates\":null,\"data_source\":{\"id\":\"1128\"},\"glyph\":{\"id\":\"1131\"},\"group\":null,\"hover_glyph\":null,\"muted_glyph\":{\"id\":\"1133\"},\"nonselection_glyph\":{\"id\":\"1132\"},\"selection_glyph\":{\"id\":\"1136\"},\"view\":{\"id\":\"1135\"}},\"id\":\"1134\",\"type\":\"GlyphRenderer\"},{\"attributes\":{},\"id\":\"1046\",\"type\":\"DatetimeTickFormatter\"},{\"attributes\":{},\"id\":\"1049\",\"type\":\"BasicTickFormatter\"},{\"attributes\":{\"days\":[1,8,15,22]},\"id\":\"1066\",\"type\":\"DaysTicker\"},{\"attributes\":{\"num_minor_ticks\":5,\"tickers\":[{\"id\":\"1153\"},{\"id\":\"1154\"},{\"id\":\"1155\"},{\"id\":\"1156\"},{\"id\":\"1157\"},{\"id\":\"1158\"},{\"id\":\"1159\"},{\"id\":\"1160\"},{\"id\":\"1161\"},{\"id\":\"1162\"},{\"id\":\"1163\"},{\"id\":\"1164\"}]},\"id\":\"1108\",\"type\":\"DatetimeTicker\"},{\"attributes\":{},\"id\":\"1142\",\"type\":\"AllLabels\"},{\"attributes\":{\"line_alpha\":0.1,\"line_color\":\"#30a2da\",\"line_width\":2,\"x\":{\"field\":\"time\"},\"y\":{\"field\":\"Wind_Speed\"}},\"id\":\"1224\",\"type\":\"Line\"},{\"attributes\":{\"data\":{\"Temprature\":{\"__ndarray__\":\"\",\"dtype\":\"float64\",\"order\":\"little\",\"shape\":[0]},\"time\":{\"__ndarray__\":\"\",\"dtype\":\"float64\",\"order\":\"little\",\"shape\":[0]}},\"selected\":{\"id\":\"1037\"},\"selection_policy\":{\"id\":\"1058\"}},\"id\":\"1036\",\"type\":\"ColumnDataSource\"},{\"attributes\":{\"months\":[0,4,8]},\"id\":\"1070\",\"type\":\"MonthsTicker\"},{\"attributes\":{},\"id\":\"1011\",\"type\":\"LinearScale\"},{\"attributes\":{\"line_alpha\":0.2,\"line_color\":\"#30a2da\",\"line_width\":2,\"x\":{\"field\":\"time\"},\"y\":{\"field\":\"Wind_Speed\"}},\"id\":\"1225\",\"type\":\"Line\"},{\"attributes\":{\"axis\":{\"id\":\"1015\"},\"coordinates\":null,\"grid_line_color\":null,\"group\":null,\"ticker\":null},\"id\":\"1018\",\"type\":\"Grid\"},{\"attributes\":{\"line_color\":\"#30a2da\",\"line_width\":2,\"x\":{\"field\":\"time\"},\"y\":{\"field\":\"Wind_Speed\"}},\"id\":\"1228\",\"type\":\"Line\"},{\"attributes\":{\"line_color\":\"#30a2da\",\"line_width\":2,\"x\":{\"field\":\"time\"},\"y\":{\"field\":\"Temprature\"}},\"id\":\"1039\",\"type\":\"Line\"},{\"attributes\":{\"bottom_units\":\"screen\",\"coordinates\":null,\"fill_alpha\":0.5,\"fill_color\":\"lightgrey\",\"group\":null,\"left_units\":\"screen\",\"level\":\"overlay\",\"line_alpha\":1.0,\"line_color\":\"black\",\"line_dash\":[4,4],\"line_width\":2,\"right_units\":\"screen\",\"syncable\":false,\"top_units\":\"screen\"},\"id\":\"1212\",\"type\":\"BoxAnnotation\"},{\"attributes\":{},\"id\":\"1230\",\"type\":\"DatetimeTickFormatter\"},{\"attributes\":{\"tags\":[[[\"Wind_Speed\",\"Wind_Speed\",null]]]},\"id\":\"1188\",\"type\":\"Range1d\"},{\"attributes\":{},\"id\":\"1058\",\"type\":\"UnionRenderers\"},{\"attributes\":{\"base\":60,\"mantissas\":[1,2,5,10,15,20,30],\"max_interval\":1800000.0,\"min_interval\":1000.0,\"num_minor_ticks\":0},\"id\":\"1154\",\"type\":\"AdaptiveTicker\"},{\"attributes\":{},\"id\":\"1023\",\"type\":\"SaveTool\"},{\"attributes\":{\"coordinates\":null,\"group\":null,\"text\":\"Temprature\",\"text_color\":\"black\",\"text_font_size\":\"12pt\"},\"id\":\"1007\",\"type\":\"Title\"},{\"attributes\":{\"line_alpha\":0.1,\"line_color\":\"#30a2da\",\"line_width\":2,\"x\":{\"field\":\"time\"},\"y\":{\"field\":\"Humidity\"}},\"id\":\"1132\",\"type\":\"Line\"},{\"attributes\":{\"reload\":false},\"id\":\"1676\",\"type\":\"panel.models.location.Location\"},{\"attributes\":{\"overlay\":{\"id\":\"1028\"}},\"id\":\"1026\",\"type\":\"BoxZoomTool\"},{\"attributes\":{},\"id\":\"1231\",\"type\":\"AllLabels\"},{\"attributes\":{\"days\":[1,4,7,10,13,16,19,22,25,28]},\"id\":\"1157\",\"type\":\"DaysTicker\"},{\"attributes\":{\"line_alpha\":0.2,\"line_color\":\"#30a2da\",\"line_width\":2,\"x\":{\"field\":\"time\"},\"y\":{\"field\":\"Temprature\"}},\"id\":\"1041\",\"type\":\"Line\"},{\"attributes\":{\"axis_label\":\"Temprature\",\"coordinates\":null,\"formatter\":{\"id\":\"1049\"},\"group\":null,\"major_label_policy\":{\"id\":\"1050\"},\"ticker\":{\"id\":\"1020\"}},\"id\":\"1019\",\"type\":\"LinearAxis\"},{\"attributes\":{\"axis\":{\"id\":\"1019\"},\"coordinates\":null,\"dimension\":1,\"grid_line_color\":null,\"group\":null,\"ticker\":null},\"id\":\"1022\",\"type\":\"Grid\"},{\"attributes\":{},\"id\":\"1047\",\"type\":\"AllLabels\"},{\"attributes\":{},\"id\":\"1233\",\"type\":\"BasicTickFormatter\"},{\"attributes\":{\"line_color\":\"#30a2da\",\"line_width\":2,\"x\":{\"field\":\"time\"},\"y\":{\"field\":\"Wind_Speed\"}},\"id\":\"1223\",\"type\":\"Line\"},{\"attributes\":{\"tags\":[[[\"Humidity\",\"Humidity\",null]]]},\"id\":\"1096\",\"type\":\"Range1d\"},{\"attributes\":{},\"id\":\"1150\",\"type\":\"UnionRenderers\"},{\"attributes\":{\"axis_label\":\"time\",\"coordinates\":null,\"formatter\":{\"id\":\"1046\"},\"group\":null,\"major_label_policy\":{\"id\":\"1047\"},\"ticker\":{\"id\":\"1016\"}},\"id\":\"1015\",\"type\":\"DatetimeAxis\"},{\"attributes\":{},\"id\":\"1013\",\"type\":\"LinearScale\"},{\"attributes\":{\"months\":[0,6]},\"id\":\"1071\",\"type\":\"MonthsTicker\"},{\"attributes\":{\"client_comm_id\":\"71e396e43b0f4695b3139601e4353ef4\",\"comm_id\":\"c417c42b9d1146f39b12011c861e86af\",\"plot_id\":\"1002\"},\"id\":\"1477\",\"type\":\"panel.models.comm_manager.CommManager\"},{\"attributes\":{},\"id\":\"1221\",\"type\":\"Selection\"},{\"attributes\":{},\"id\":\"1072\",\"type\":\"YearsTicker\"},{\"attributes\":{\"axis\":{\"id\":\"1107\"},\"coordinates\":null,\"grid_line_color\":null,\"group\":null,\"ticker\":null},\"id\":\"1110\",\"type\":\"Grid\"},{\"attributes\":{\"line_alpha\":0.2,\"line_color\":\"#30a2da\",\"line_width\":2,\"x\":{\"field\":\"time\"},\"y\":{\"field\":\"Humidity\"}},\"id\":\"1133\",\"type\":\"Line\"},{\"attributes\":{},\"id\":\"1242\",\"type\":\"UnionRenderers\"},{\"attributes\":{\"source\":{\"id\":\"1220\"}},\"id\":\"1227\",\"type\":\"CDSView\"},{\"attributes\":{},\"id\":\"1103\",\"type\":\"LinearScale\"},{\"attributes\":{},\"id\":\"1037\",\"type\":\"Selection\"},{\"attributes\":{\"months\":[0,6]},\"id\":\"1255\",\"type\":\"MonthsTicker\"},{\"attributes\":{},\"id\":\"1117\",\"type\":\"WheelZoomTool\"},{\"attributes\":{},\"id\":\"1116\",\"type\":\"PanTool\"},{\"attributes\":{\"mantissas\":[1,2,5],\"max_interval\":500.0,\"num_minor_ticks\":0},\"id\":\"1245\",\"type\":\"AdaptiveTicker\"},{\"attributes\":{\"coordinates\":null,\"group\":null,\"text\":\"Humidity\",\"text_color\":\"black\",\"text_font_size\":\"12pt\"},\"id\":\"1099\",\"type\":\"Title\"},{\"attributes\":{\"data\":{\"Humidity\":[],\"time\":{\"__ndarray__\":\"\",\"dtype\":\"float64\",\"order\":\"little\",\"shape\":[0]}},\"selected\":{\"id\":\"1129\"},\"selection_policy\":{\"id\":\"1150\"}},\"id\":\"1128\",\"type\":\"ColumnDataSource\"},{\"attributes\":{\"axis\":{\"id\":\"1111\"},\"coordinates\":null,\"dimension\":1,\"grid_line_color\":null,\"group\":null,\"ticker\":null},\"id\":\"1114\",\"type\":\"Grid\"},{\"attributes\":{},\"id\":\"1211\",\"type\":\"ResetTool\"},{\"attributes\":{},\"id\":\"1112\",\"type\":\"BasicTicker\"},{\"attributes\":{\"days\":[1,15]},\"id\":\"1159\",\"type\":\"DaysTicker\"},{\"attributes\":{\"months\":[0,6]},\"id\":\"1163\",\"type\":\"MonthsTicker\"},{\"attributes\":{\"line_color\":\"#30a2da\",\"line_width\":2,\"x\":{\"field\":\"time\"},\"y\":{\"field\":\"Humidity\"}},\"id\":\"1131\",\"type\":\"Line\"},{\"attributes\":{\"days\":[1,2,3,4,5,6,7,8,9,10,11,12,13,14,15,16,17,18,19,20,21,22,23,24,25,26,27,28,29,30,31]},\"id\":\"1248\",\"type\":\"DaysTicker\"},{\"attributes\":{\"base\":24,\"mantissas\":[1,2,4,6,8,12],\"max_interval\":43200000.0,\"min_interval\":3600000.0,\"num_minor_ticks\":0},\"id\":\"1247\",\"type\":\"AdaptiveTicker\"},{\"attributes\":{\"bottom_units\":\"screen\",\"coordinates\":null,\"fill_alpha\":0.5,\"fill_color\":\"lightgrey\",\"group\":null,\"left_units\":\"screen\",\"level\":\"overlay\",\"line_alpha\":1.0,\"line_color\":\"black\",\"line_dash\":[4,4],\"line_width\":2,\"right_units\":\"screen\",\"syncable\":false,\"top_units\":\"screen\"},\"id\":\"1120\",\"type\":\"BoxAnnotation\"},{\"attributes\":{\"months\":[0,4,8]},\"id\":\"1162\",\"type\":\"MonthsTicker\"},{\"attributes\":{},\"id\":\"1207\",\"type\":\"SaveTool\"},{\"attributes\":{\"axis_label\":\"Humidity\",\"coordinates\":null,\"formatter\":{\"id\":\"1141\"},\"group\":null,\"major_label_policy\":{\"id\":\"1142\"},\"ticker\":{\"id\":\"1112\"}},\"id\":\"1111\",\"type\":\"LinearAxis\"},{\"attributes\":{},\"id\":\"1208\",\"type\":\"PanTool\"},{\"attributes\":{},\"id\":\"1197\",\"type\":\"LinearScale\"},{\"attributes\":{\"months\":[0,2,4,6,8,10]},\"id\":\"1161\",\"type\":\"MonthsTicker\"},{\"attributes\":{},\"id\":\"1164\",\"type\":\"YearsTicker\"},{\"attributes\":{\"base\":60,\"mantissas\":[1,2,5,10,15,20,30],\"max_interval\":1800000.0,\"min_interval\":1000.0,\"num_minor_ticks\":0},\"id\":\"1246\",\"type\":\"AdaptiveTicker\"},{\"attributes\":{\"axis_label\":\"Wind_Speed\",\"coordinates\":null,\"formatter\":{\"id\":\"1233\"},\"group\":null,\"major_label_policy\":{\"id\":\"1234\"},\"ticker\":{\"id\":\"1204\"}},\"id\":\"1203\",\"type\":\"LinearAxis\"},{\"attributes\":{\"overlay\":{\"id\":\"1120\"}},\"id\":\"1118\",\"type\":\"BoxZoomTool\"},{\"attributes\":{},\"id\":\"1115\",\"type\":\"SaveTool\"},{\"attributes\":{\"axis\":{\"id\":\"1203\"},\"coordinates\":null,\"dimension\":1,\"grid_line_color\":null,\"group\":null,\"ticker\":null},\"id\":\"1206\",\"type\":\"Grid\"},{\"attributes\":{\"axis\":{\"id\":\"1199\"},\"coordinates\":null,\"grid_line_color\":null,\"group\":null,\"ticker\":null},\"id\":\"1202\",\"type\":\"Grid\"},{\"attributes\":{\"coordinates\":null,\"data_source\":{\"id\":\"1036\"},\"glyph\":{\"id\":\"1039\"},\"group\":null,\"hover_glyph\":null,\"muted_glyph\":{\"id\":\"1041\"},\"nonselection_glyph\":{\"id\":\"1040\"},\"selection_glyph\":{\"id\":\"1044\"},\"view\":{\"id\":\"1043\"}},\"id\":\"1042\",\"type\":\"GlyphRenderer\"},{\"attributes\":{\"coordinates\":null,\"group\":null,\"text\":\"Wind Speed\",\"text_color\":\"black\",\"text_font_size\":\"12pt\"},\"id\":\"1191\",\"type\":\"Title\"},{\"attributes\":{\"days\":[1,15]},\"id\":\"1251\",\"type\":\"DaysTicker\"},{\"attributes\":{},\"id\":\"1204\",\"type\":\"BasicTicker\"},{\"attributes\":{\"days\":[1,4,7,10,13,16,19,22,25,28]},\"id\":\"1249\",\"type\":\"DaysTicker\"},{\"attributes\":{\"callback\":null,\"renderers\":[{\"id\":\"1134\"}],\"tags\":[\"hv_created\"],\"tooltips\":[[\"time\",\"@{time}\"],[\"Humidity\",\"@{Humidity}\"]]},\"id\":\"1097\",\"type\":\"HoverTool\"},{\"attributes\":{\"months\":[0,1,2,3,4,5,6,7,8,9,10,11]},\"id\":\"1252\",\"type\":\"MonthsTicker\"},{\"attributes\":{\"days\":[1,8,15,22]},\"id\":\"1158\",\"type\":\"DaysTicker\"},{\"attributes\":{},\"id\":\"1119\",\"type\":\"ResetTool\"},{\"attributes\":{\"tools\":[{\"id\":\"1189\"},{\"id\":\"1207\"},{\"id\":\"1208\"},{\"id\":\"1209\"},{\"id\":\"1210\"},{\"id\":\"1211\"}]},\"id\":\"1213\",\"type\":\"Toolbar\"},{\"attributes\":{\"months\":[0,2,4,6,8,10]},\"id\":\"1253\",\"type\":\"MonthsTicker\"},{\"attributes\":{\"months\":[0,1,2,3,4,5,6,7,8,9,10,11]},\"id\":\"1160\",\"type\":\"MonthsTicker\"},{\"attributes\":{\"bottom_units\":\"screen\",\"coordinates\":null,\"fill_alpha\":0.5,\"fill_color\":\"lightgrey\",\"group\":null,\"left_units\":\"screen\",\"level\":\"overlay\",\"line_alpha\":1.0,\"line_color\":\"black\",\"line_dash\":[4,4],\"line_width\":2,\"right_units\":\"screen\",\"syncable\":false,\"top_units\":\"screen\"},\"id\":\"1028\",\"type\":\"BoxAnnotation\"},{\"attributes\":{\"overlay\":{\"id\":\"1212\"}},\"id\":\"1210\",\"type\":\"BoxZoomTool\"},{\"attributes\":{\"below\":[{\"id\":\"1107\"}],\"center\":[{\"id\":\"1110\"},{\"id\":\"1114\"}],\"height\":300,\"left\":[{\"id\":\"1111\"}],\"margin\":[5,5,5,5],\"min_border_bottom\":10,\"min_border_left\":10,\"min_border_right\":10,\"min_border_top\":10,\"renderers\":[{\"id\":\"1134\"}],\"sizing_mode\":\"fixed\",\"title\":{\"id\":\"1099\"},\"toolbar\":{\"id\":\"1121\"},\"width\":700,\"x_range\":{\"id\":\"1003\"},\"x_scale\":{\"id\":\"1103\"},\"y_range\":{\"id\":\"1096\"},\"y_scale\":{\"id\":\"1105\"}},\"id\":\"1098\",\"subtype\":\"Figure\",\"type\":\"Plot\"},{\"attributes\":{},\"id\":\"1256\",\"type\":\"YearsTicker\"},{\"attributes\":{\"axis_label\":\"time\",\"coordinates\":null,\"formatter\":{\"id\":\"1230\"},\"group\":null,\"major_label_policy\":{\"id\":\"1231\"},\"ticker\":{\"id\":\"1200\"}},\"id\":\"1199\",\"type\":\"DatetimeAxis\"},{\"attributes\":{\"days\":[1,8,15,22]},\"id\":\"1250\",\"type\":\"DaysTicker\"},{\"attributes\":{\"num_minor_ticks\":5,\"tickers\":[{\"id\":\"1245\"},{\"id\":\"1246\"},{\"id\":\"1247\"},{\"id\":\"1248\"},{\"id\":\"1249\"},{\"id\":\"1250\"},{\"id\":\"1251\"},{\"id\":\"1252\"},{\"id\":\"1253\"},{\"id\":\"1254\"},{\"id\":\"1255\"},{\"id\":\"1256\"}]},\"id\":\"1200\",\"type\":\"DatetimeTicker\"},{\"attributes\":{\"months\":[0,4,8]},\"id\":\"1254\",\"type\":\"MonthsTicker\"},{\"attributes\":{},\"id\":\"1209\",\"type\":\"WheelZoomTool\"},{\"attributes\":{},\"id\":\"1105\",\"type\":\"LinearScale\"}],\"root_ids\":[\"1002\",\"1477\",\"1676\"]},\"title\":\"Bokeh Application\",\"version\":\"2.4.2\"}};\n",
       "    var render_items = [{\"docid\":\"6df66a8a-853a-41e8-b916-8998adc4d79d\",\"root_ids\":[\"1002\"],\"roots\":{\"1002\":\"14209456-d544-4537-9a5c-9d6352286267\"}}];\n",
       "    root.Bokeh.embed.embed_items_notebook(docs_json, render_items);\n",
       "  }\n",
       "  if (root.Bokeh !== undefined && root.Bokeh.Panel !== undefined) {\n",
       "    embed_document(root);\n",
       "  } else {\n",
       "    var attempts = 0;\n",
       "    var timer = setInterval(function(root) {\n",
       "      if (root.Bokeh !== undefined && root.Bokeh.Panel !== undefined) {\n",
       "        clearInterval(timer);\n",
       "        embed_document(root);\n",
       "      } else if (document.readyState == \"complete\") {\n",
       "        attempts++;\n",
       "        if (attempts > 200) {\n",
       "          clearInterval(timer);\n",
       "          console.log(\"Bokeh: ERROR: Unable to run BokehJS code because BokehJS library is missing\");\n",
       "        }\n",
       "      }\n",
       "    }, 25, root)\n",
       "  }\n",
       "})(window);</script>"
      ],
      "text/plain": [
       "Row\n",
       "    [0] HoloViews(DynamicMap)\n",
       "    [1] HoloViews(DynamicMap)\n",
       "    [2] HoloViews(DynamicMap)"
      ]
     },
     "execution_count": 9,
     "metadata": {
      "application/vnd.holoviews_exec.v0+json": {
       "id": "1002"
      }
     },
     "output_type": "execute_result"
    }
   ],
   "source": [
    "def streaming_weather_data(**kwargs):\n",
    "    \"\"\"Function get weather of Dhaka\"\"\"\n",
    "    df=weather_data(['Dhaka'])\n",
    "    df['time']=[pd.Timestamp.now()]\n",
    "    return df.set_index('time')\n",
    "# A streaming Data_Frame\n",
    "df=PeriodicDataFrame(streaming_weather_data,interval='30s')\n",
    "\n",
    "pn_realtime=pn.Column\n",
    "(\n",
    "    pn.Row(\n",
    "    df[['Temprature']].hvplot.line(title='Temprature',backlog=1000),\n",
    "    df[['Humidity']].hvplot.line(title='Humidity',backlog=1000),\n",
    "    df[['Wind_Speed']].hvplot.line(title='Wind Speed',backlog=1000)\n",
    "    )\n",
    "    \n",
    "    \n",
    ")"
   ]
  },
  {
   "cell_type": "code",
   "execution_count": 10,
   "id": "1028f963",
   "metadata": {},
   "outputs": [],
   "source": [
    "cities=['Dhaka','Chittagong','Kolkata']\n",
    "def weather_plot(col,cities=cities):\n",
    "    \"\"\"Ploting weather data\"\"\"\n",
    "    df=weather_data(cities)\n",
    "    df['x'],df['y']=lnglat_to_meters(df['lon'],df['lat'])\n",
    "    table=hv.Table(df[['name',col]]).opts(width=800)\n",
    "    points=df.hvplot.scatter('x','y',c=col,cmap='bkr',hover_cols=['name'])\n",
    "    map_tiles=EsriImagery().opts(alpha=0.5,width=900,height=480,bgcolor='white')\n",
    "    return pn.Column(points * map_tiles,table)\n"
   ]
  },
  {
   "cell_type": "code",
   "execution_count": 11,
   "id": "e9ab37bc",
   "metadata": {},
   "outputs": [],
   "source": [
    "\n",
    "class refresh_weather_dashboard(param.Parameterized):\n",
    "    action = param.Action(lambda x: x.param.trigger('action'), label='Refresh')\n",
    "    select_column = param.ObjectSelector(default='Temprature', objects=['Temprature', 'Humidity', 'Wind_Speed'])\n",
    "\n",
    "       \n",
    "    @param.depends('action', 'select_column')\n",
    "    def get_plot(self):\n",
    "        return weather_plot(self.select_column)\n",
    "\n",
    "    \n",
    "weather_dashboard = refresh_weather_dashboard()\n",
    "\n",
    "pn_weather = pn.Column(\n",
    "       pn.panel(weather_dashboard.param, show_labels=True, show_name=False, margin=0),\n",
    "       weather_dashboard.get_plot, width=400\n",
    ")"
   ]
  },
  {
   "cell_type": "code",
   "execution_count": 12,
   "id": "5e3604c4",
   "metadata": {},
   "outputs": [
    {
     "data": {},
     "metadata": {},
     "output_type": "display_data"
    },
    {
     "data": {},
     "metadata": {},
     "output_type": "display_data"
    },
    {
     "data": {
      "application/vnd.holoviews_exec.v0+json": "",
      "text/html": [
       "<div id='1875'>\n",
       "\n",
       "\n",
       "\n",
       "\n",
       "\n",
       "  <div class=\"bk-root\" id=\"048d0994-f1dc-4c25-9502-51dee3aeaf4b\" data-root-id=\"1875\"></div>\n",
       "</div>\n",
       "<script type=\"application/javascript\">(function(root) {\n",
       "  function embed_document(root) {\n",
       "    var docs_json = {\"7dc37330-92d2-40ab-8e98-849242821f70\":{\"defs\":[{\"extends\":null,\"module\":null,\"name\":\"ReactiveHTML1\",\"overrides\":[],\"properties\":[]},{\"extends\":null,\"module\":null,\"name\":\"FlexBox1\",\"overrides\":[],\"properties\":[{\"default\":\"flex-start\",\"kind\":null,\"name\":\"align_content\"},{\"default\":\"flex-start\",\"kind\":null,\"name\":\"align_items\"},{\"default\":\"row\",\"kind\":null,\"name\":\"flex_direction\"},{\"default\":\"wrap\",\"kind\":null,\"name\":\"flex_wrap\"},{\"default\":\"flex-start\",\"kind\":null,\"name\":\"justify_content\"}]},{\"extends\":null,\"module\":null,\"name\":\"TemplateActions1\",\"overrides\":[],\"properties\":[{\"default\":0,\"kind\":null,\"name\":\"open_modal\"},{\"default\":0,\"kind\":null,\"name\":\"close_modal\"}]},{\"extends\":null,\"module\":null,\"name\":\"MaterialTemplateActions1\",\"overrides\":[],\"properties\":[{\"default\":0,\"kind\":null,\"name\":\"open_modal\"},{\"default\":0,\"kind\":null,\"name\":\"close_modal\"}]}],\"roots\":{\"references\":[{\"attributes\":{\"editor\":{\"id\":\"2071\"},\"field\":\"name\",\"formatter\":{\"id\":\"2070\"},\"title\":\"name\"},\"id\":\"2072\",\"type\":\"TableColumn\"},{\"attributes\":{\"margin\":[5,10,5,10],\"name\":\"\",\"text\":\"<b>Real Time</b>\"},\"id\":\"1877\",\"type\":\"Div\"},{\"attributes\":{\"margin\":[5,10,5,10],\"title\":\"Aspect ratio\"},\"id\":\"1879\",\"type\":\"TextInput\"},{\"attributes\":{\"child\":{\"id\":\"1876\"},\"name\":\"Real Time\",\"title\":\"Real Time\"},\"id\":\"1897\",\"type\":\"Panel\"},{\"attributes\":{\"format\":\"0,0.0[00000]\"},\"id\":\"2075\",\"type\":\"NumberFormatter\"},{\"attributes\":{},\"id\":\"2009\",\"type\":\"UnionRenderers\"},{\"attributes\":{\"dimension\":\"lat\"},\"id\":\"1955\",\"type\":\"MercatorTicker\"},{\"attributes\":{\"margin\":[5,10,5,10],\"options\":[[\"fixed\",\"fixed\"],[\"stretch_width\",\"stretch_width\"],[\"stretch_height\",\"stretch_height\"],[\"stretch_both\",\"stretch_both\"],[\"scale_width\",\"scale_width\"],[\"scale_height\",\"scale_height\"],[\"scale_both\",\"scale_both\"],[\"None\",\"None\"]],\"title\":\"Sizing mode\"},\"id\":\"1891\",\"type\":\"Select\"},{\"attributes\":{\"margin\":[5,10,5,10],\"options\":[[\"auto\",\"auto\"],[\"fixed\",\"fixed\"],[\"fit\",\"fit\"],[\"min\",\"min\"],[\"max\",\"max\"]],\"title\":\"Width policy\",\"value\":\"auto\"},\"id\":\"1889\",\"type\":\"Select\"},{\"attributes\":{\"children\":[{\"id\":\"1899\"},{\"id\":\"1902\"}],\"margin\":[0,0,0,0],\"min_width\":400,\"name\":\"Column02192\",\"width\":400},\"id\":\"1898\",\"type\":\"Column\"},{\"attributes\":{\"coordinates\":null,\"group\":null,\"text_color\":\"black\",\"text_font_size\":\"12pt\"},\"id\":\"1908\",\"type\":\"Title\"},{\"attributes\":{\"editor\":{\"id\":\"2076\"},\"field\":\"Temprature\",\"formatter\":{\"id\":\"2075\"},\"title\":\"Temprature\"},\"id\":\"2077\",\"type\":\"TableColumn\"},{\"attributes\":{\"fill_color\":{\"field\":\"color\",\"transform\":{\"id\":\"1987\"}},\"hatch_color\":{\"field\":\"color\",\"transform\":{\"id\":\"1987\"}},\"line_color\":{\"field\":\"color\",\"transform\":{\"id\":\"1987\"}},\"size\":{\"value\":5.477225575051661},\"x\":{\"field\":\"x\"},\"y\":{\"field\":\"y\"}},\"id\":\"1993\",\"type\":\"Scatter\"},{\"attributes\":{\"dimension\":\"lon\"},\"id\":\"1938\",\"type\":\"MercatorTickFormatter\"},{\"attributes\":{\"children\":[{\"id\":\"1877\"},{\"id\":\"1878\"},{\"id\":\"1879\"},{\"id\":\"1880\"},{\"id\":\"1881\"},{\"id\":\"1882\"},{\"id\":\"1883\"},{\"id\":\"1884\"},{\"id\":\"1885\"},{\"id\":\"1886\"},{\"id\":\"1887\"},{\"id\":\"1888\"},{\"id\":\"1889\"},{\"id\":\"1890\"},{\"id\":\"1891\"},{\"id\":\"1892\"},{\"id\":\"1893\"},{\"id\":\"1894\"},{\"id\":\"1895\"},{\"id\":\"1896\"}],\"margin\":[5,5,5,5],\"min_width\":300,\"name\":\"Real Time\",\"width\":300},\"id\":\"1876\",\"type\":\"Column\"},{\"attributes\":{\"columns\":[{\"id\":\"2072\"},{\"id\":\"2077\"}],\"height\":300,\"reorderable\":false,\"source\":{\"id\":\"2068\"},\"view\":{\"id\":\"2082\"},\"width\":800},\"id\":\"2080\",\"type\":\"DataTable\"},{\"attributes\":{\"low\":0,\"margin\":[5,10,5,10],\"mode\":\"int\",\"placeholder\":\"0\",\"title\":\"Min width\",\"value\":0,\"value_throttled\":0},\"id\":\"1884\",\"type\":\"Spinner\"},{\"attributes\":{\"dimension\":\"lat\"},\"id\":\"1956\",\"type\":\"MercatorTickFormatter\"},{\"attributes\":{\"end\":2731968.1039055944,\"reset_end\":2731968.1039055944,\"reset_start\":2566253.895473854,\"start\":2566253.895473854,\"tags\":[[[\"y\",\"y\",null]]]},\"id\":\"1905\",\"type\":\"Range1d\"},{\"attributes\":{\"fill_alpha\":{\"value\":0.1},\"fill_color\":{\"field\":\"color\",\"transform\":{\"id\":\"1987\"}},\"hatch_alpha\":{\"value\":0.1},\"hatch_color\":{\"field\":\"color\",\"transform\":{\"id\":\"1987\"}},\"line_alpha\":{\"value\":0.1},\"line_color\":{\"field\":\"color\",\"transform\":{\"id\":\"1987\"}},\"size\":{\"value\":5.477225575051661},\"x\":{\"field\":\"x\"},\"y\":{\"field\":\"y\"}},\"id\":\"1992\",\"type\":\"Scatter\"},{\"attributes\":{\"coordinates\":null,\"data_source\":{\"id\":\"1988\"},\"glyph\":{\"id\":\"1991\"},\"group\":null,\"hover_glyph\":{\"id\":\"1994\"},\"muted_glyph\":{\"id\":\"1995\"},\"nonselection_glyph\":{\"id\":\"1992\"},\"selection_glyph\":{\"id\":\"1993\"},\"view\":{\"id\":\"1997\"}},\"id\":\"1996\",\"type\":\"GlyphRenderer\"},{\"attributes\":{\"margin\":[5,10,5,10],\"title\":\"Objects\",\"value\":\"[]\"},\"id\":\"1894\",\"type\":\"TextInput\"},{\"attributes\":{\"client_comm_id\":\"ef0ae1298f404bac8f15463ae1958c63\",\"comm_id\":\"d78ebdda32374efcb644202d476fc672\",\"plot_id\":\"1875\"},\"id\":\"2115\",\"type\":\"panel.models.comm_manager.CommManager\"},{\"attributes\":{\"margin\":[5,10,5,10],\"options\":[[\"Temprature\",\"Temprature\"],[\"Humidity\",\"Humidity\"],[\"Wind_Speed\",\"Wind_Speed\"]],\"title\":\"Select column\",\"value\":\"Temprature\"},\"id\":\"1901\",\"type\":\"Select\"},{\"attributes\":{\"background_fill_color\":\"white\",\"below\":[{\"id\":\"1916\"}],\"center\":[{\"id\":\"1919\"},{\"id\":\"1923\"}],\"height\":300,\"left\":[{\"id\":\"1920\"}],\"margin\":[5,5,5,5],\"min_border_bottom\":10,\"min_border_left\":10,\"min_border_right\":10,\"min_border_top\":10,\"renderers\":[{\"id\":\"1996\"},{\"id\":\"2003\"}],\"right\":[{\"id\":\"1999\"}],\"sizing_mode\":\"fixed\",\"title\":{\"id\":\"1908\"},\"toolbar\":{\"id\":\"1930\"},\"width\":700,\"x_range\":{\"id\":\"1904\"},\"x_scale\":{\"id\":\"1912\"},\"y_range\":{\"id\":\"1905\"},\"y_scale\":{\"id\":\"1914\"}},\"id\":\"1907\",\"subtype\":\"Figure\",\"type\":\"Plot\"},{\"attributes\":{},\"id\":\"1998\",\"type\":\"BasicTicker\"},{\"attributes\":{\"children\":[{\"id\":\"1907\"},{\"id\":\"2080\"}],\"margin\":[0,0,0,0],\"name\":\"Column02190\"},\"id\":\"1903\",\"type\":\"Column\"},{\"attributes\":{\"low\":0,\"margin\":[5,10,5,10],\"mode\":\"int\",\"placeholder\":\"0\",\"title\":\"Max height\",\"value\":0,\"value_throttled\":0},\"id\":\"1887\",\"type\":\"Spinner\"},{\"attributes\":{\"source\":{\"id\":\"1988\"}},\"id\":\"1997\",\"type\":\"CDSView\"},{\"attributes\":{},\"id\":\"2071\",\"type\":\"StringEditor\"},{\"attributes\":{\"margin\":[5,10,5,10],\"options\":[[\"auto\",\"auto\"],[\"fixed\",\"fixed\"],[\"fit\",\"fit\"],[\"min\",\"min\"],[\"max\",\"max\"]],\"title\":\"Height policy\",\"value\":\"auto\"},\"id\":\"1890\",\"type\":\"Select\"},{\"attributes\":{\"low\":0,\"margin\":[5,10,5,10],\"mode\":\"int\",\"placeholder\":\"0\",\"title\":\"Max width\",\"value\":0,\"value_throttled\":0},\"id\":\"1886\",\"type\":\"Spinner\"},{\"attributes\":{\"tools\":[{\"id\":\"1906\"},{\"id\":\"1924\"},{\"id\":\"1925\"},{\"id\":\"1926\"},{\"id\":\"1927\"},{\"id\":\"1928\"}]},\"id\":\"1930\",\"type\":\"Toolbar\"},{\"attributes\":{\"end\":10200667.553385824,\"reset_end\":10200667.553385824,\"reset_start\":9822335.859753055,\"start\":9822335.859753055,\"tags\":[[[\"x\",\"x\",null]]]},\"id\":\"1904\",\"type\":\"Range1d\"},{\"attributes\":{\"bottom_units\":\"screen\",\"coordinates\":null,\"fill_alpha\":0.5,\"fill_color\":\"lightgrey\",\"group\":null,\"left_units\":\"screen\",\"level\":\"overlay\",\"line_alpha\":1.0,\"line_color\":\"black\",\"line_dash\":[4,4],\"line_width\":2,\"right_units\":\"screen\",\"syncable\":false,\"top_units\":\"screen\"},\"id\":\"1929\",\"type\":\"BoxAnnotation\"},{\"attributes\":{\"active\":[0],\"labels\":[\"Visible\"],\"margin\":[5,10,5,10]},\"id\":\"1892\",\"type\":\"CheckboxGroup\"},{\"attributes\":{\"high\":82.38,\"low\":72.64,\"palette\":[\"#1881fa\",\"#1a80f8\",\"#1b7ff6\",\"#1c7ef4\",\"#1e7df2\",\"#1f7cf0\",\"#207cee\",\"#217bec\",\"#227aea\",\"#2379e8\",\"#2478e6\",\"#2477e4\",\"#2576e2\",\"#2675e0\",\"#2775de\",\"#2774dd\",\"#2873db\",\"#2872d9\",\"#2971d7\",\"#2a70d5\",\"#2a6fd3\",\"#2b6fd1\",\"#2b6ecf\",\"#2b6dcd\",\"#2c6ccb\",\"#2c6bc9\",\"#2d6ac7\",\"#2d69c6\",\"#2d69c4\",\"#2e68c2\",\"#2e67c0\",\"#2e66be\",\"#2f65bc\",\"#2f64ba\",\"#2f63b8\",\"#2f63b7\",\"#3062b5\",\"#3061b3\",\"#3060b1\",\"#305faf\",\"#305ead\",\"#305eab\",\"#315daa\",\"#315ca8\",\"#315ba6\",\"#315aa4\",\"#3159a2\",\"#3159a0\",\"#31589f\",\"#31579d\",\"#31569b\",\"#315599\",\"#315497\",\"#315495\",\"#315394\",\"#315292\",\"#315190\",\"#31508e\",\"#31508c\",\"#314f8b\",\"#314e89\",\"#314d87\",\"#314c85\",\"#314c84\",\"#314b82\",\"#314a80\",\"#30497e\",\"#30487d\",\"#30487b\",\"#304779\",\"#304677\",\"#304576\",\"#304474\",\"#2f4472\",\"#2f4370\",\"#2f426f\",\"#2f416d\",\"#2f406b\",\"#2e406a\",\"#2e3f68\",\"#2e3e66\",\"#2e3d65\",\"#2e3d63\",\"#2d3c61\",\"#2d3b60\",\"#2d3a5e\",\"#2d395c\",\"#2c395b\",\"#2c3859\",\"#2c3757\",\"#2b3656\",\"#2b3654\",\"#2b3552\",\"#2a3451\",\"#2a334f\",\"#2a334e\",\"#29324c\",\"#29314a\",\"#293049\",\"#283047\",\"#282f46\",\"#282e44\",\"#272e42\",\"#272d41\",\"#272c3f\",\"#262b3e\",\"#262b3c\",\"#252a3b\",\"#252939\",\"#242837\",\"#242836\",\"#242734\",\"#232633\",\"#232631\",\"#222530\",\"#22242f\",\"#22242d\",\"#21232c\",\"#21222a\",\"#212229\",\"#212128\",\"#202126\",\"#202025\",\"#202024\",\"#211f23\",\"#211f22\",\"#211f21\",\"#211f21\",\"#221f20\",\"#231f20\",\"#231f1f\",\"#241f1f\",\"#251f1f\",\"#261f1e\",\"#271f1e\",\"#28201e\",\"#2a201e\",\"#2b201f\",\"#2c211f\",\"#2e211f\",\"#2f221f\",\"#30221f\",\"#322220\",\"#332320\",\"#352320\",\"#362420\",\"#382421\",\"#392521\",\"#3b2521\",\"#3c2622\",\"#3d2622\",\"#3f2622\",\"#402722\",\"#422723\",\"#432823\",\"#452823\",\"#462924\",\"#482924\",\"#492a24\",\"#4b2a24\",\"#4c2b25\",\"#4e2b25\",\"#4f2b25\",\"#512c26\",\"#522c26\",\"#542d26\",\"#552d27\",\"#572e27\",\"#582e27\",\"#5a2e27\",\"#5b2f28\",\"#5d2f28\",\"#5e3028\",\"#603029\",\"#613129\",\"#633129\",\"#643129\",\"#66322a\",\"#68322a\",\"#69332a\",\"#6b332b\",\"#6c342b\",\"#6e342b\",\"#6f342c\",\"#71352c\",\"#72352c\",\"#74362c\",\"#75362d\",\"#77362d\",\"#79372d\",\"#7a372e\",\"#7c382e\",\"#7d382e\",\"#7f382e\",\"#80392f\",\"#82392f\",\"#843a2f\",\"#853a30\",\"#873a30\",\"#883b30\",\"#8a3b31\",\"#8c3c31\",\"#8d3c31\",\"#8f3c31\",\"#903d32\",\"#923d32\",\"#943e32\",\"#953e33\",\"#973e33\",\"#983f33\",\"#9a3f34\",\"#9c3f34\",\"#9d4034\",\"#9f4034\",\"#a14135\",\"#a24135\",\"#a44135\",\"#a54236\",\"#a74236\",\"#a94236\",\"#aa4337\",\"#ac4337\",\"#ae4437\",\"#af4437\",\"#b14438\",\"#b34538\",\"#b44538\",\"#b64539\",\"#b84639\",\"#b94639\",\"#bb4739\",\"#bd473a\",\"#be473a\",\"#c0483a\",\"#c2483b\",\"#c3483b\",\"#c5493b\",\"#c7493c\",\"#c8493c\",\"#ca4a3c\",\"#cc4a3c\",\"#ce4a3d\",\"#cf4b3d\",\"#d14b3d\",\"#d34b3e\",\"#d44c3e\",\"#d64c3e\",\"#d84d3f\",\"#da4d3f\",\"#db4d3f\",\"#dd4e3f\",\"#df4e40\",\"#e04e40\",\"#e24f40\",\"#e44f41\",\"#e64f41\"]},\"id\":\"1987\",\"type\":\"LinearColorMapper\"},{\"attributes\":{\"margin\":[5,10,5,10],\"title\":\"Background\"},\"id\":\"1880\",\"type\":\"TextInput\"},{\"attributes\":{\"attribution\":\"&copy; <a href=\\\"http://downloads.esri.com/ArcGISOnline/docs/tou_summary.pdf\\\">Esri</a>, Earthstar Geographics\",\"url\":\"https://server.arcgisonline.com/ArcGIS/rest/services/World_Imagery/MapServer/tile/{Z}/{Y}/{X}.jpg\"},\"id\":\"2000\",\"type\":\"WMTSTileSource\"},{\"attributes\":{},\"id\":\"1928\",\"type\":\"ResetTool\"},{\"attributes\":{},\"id\":\"2076\",\"type\":\"NumberEditor\"},{\"attributes\":{},\"id\":\"1989\",\"type\":\"Selection\"},{\"attributes\":{\"low\":0,\"margin\":[5,10,5,10],\"mode\":\"int\",\"placeholder\":\"0\",\"title\":\"Min height\",\"value\":0,\"value_throttled\":0},\"id\":\"1885\",\"type\":\"Spinner\"},{\"attributes\":{\"low\":0,\"margin\":[5,10,5,10],\"mode\":\"int\",\"placeholder\":\"0\",\"title\":\"Height\",\"value\":0,\"value_throttled\":0},\"id\":\"1883\",\"type\":\"Spinner\"},{\"attributes\":{},\"id\":\"2069\",\"type\":\"Selection\"},{\"attributes\":{\"alpha\":0.5,\"coordinates\":null,\"group\":null,\"level\":\"glyph\",\"tile_source\":{\"id\":\"2000\"}},\"id\":\"2003\",\"type\":\"TileRenderer\"},{\"attributes\":{\"data\":{\"Temprature\":{\"__ndarray__\":\"uB6F61GYVEApXI/C9ShSQAAAAAAAsFNA\",\"dtype\":\"float64\",\"order\":\"little\",\"shape\":[3]},\"name\":[\"Dhaka\",\"Chittagong\",\"Kolkata\"]},\"selected\":{\"id\":\"2069\"},\"selection_policy\":{\"id\":\"2083\"}},\"id\":\"2068\",\"type\":\"ColumnDataSource\"},{\"attributes\":{\"margin\":[5,10,5,10],\"title\":\"Row sizing\"},\"id\":\"1896\",\"type\":\"TextInput\"},{\"attributes\":{\"fill_color\":{\"field\":\"color\",\"transform\":{\"id\":\"1987\"}},\"hatch_color\":{\"field\":\"color\",\"transform\":{\"id\":\"1987\"}},\"line_color\":{\"field\":\"color\",\"transform\":{\"id\":\"1987\"}},\"size\":{\"value\":5.477225575051661},\"x\":{\"field\":\"x\"},\"y\":{\"field\":\"y\"}},\"id\":\"1994\",\"type\":\"Scatter\"},{\"attributes\":{\"dimension\":\"lon\"},\"id\":\"1937\",\"type\":\"MercatorTicker\"},{\"attributes\":{\"margin\":[5,10,5,10],\"title\":\"Css classes\"},\"id\":\"1881\",\"type\":\"TextInput\"},{\"attributes\":{\"fill_alpha\":{\"value\":0.2},\"fill_color\":{\"field\":\"color\",\"transform\":{\"id\":\"1987\"}},\"hatch_alpha\":{\"value\":0.2},\"hatch_color\":{\"field\":\"color\",\"transform\":{\"id\":\"1987\"}},\"line_alpha\":{\"value\":0.2},\"line_color\":{\"field\":\"color\",\"transform\":{\"id\":\"1987\"}},\"size\":{\"value\":5.477225575051661},\"x\":{\"field\":\"x\"},\"y\":{\"field\":\"y\"}},\"id\":\"1995\",\"type\":\"Scatter\"},{\"attributes\":{\"children\":[{\"id\":\"1903\"}],\"margin\":[0,0,0,0],\"name\":\"Row02043\"},\"id\":\"1902\",\"type\":\"Row\"},{\"attributes\":{\"margin\":[5,10,5,10],\"title\":\"Margin\",\"value\":\"0\"},\"id\":\"1888\",\"type\":\"TextInput\"},{\"attributes\":{\"margin\":[5,10,5,10],\"title\":\"Align\",\"value\":\"'start'\"},\"id\":\"1878\",\"type\":\"TextInput\"},{\"attributes\":{},\"id\":\"2083\",\"type\":\"UnionRenderers\"},{\"attributes\":{\"axis\":{\"id\":\"1916\"},\"coordinates\":null,\"grid_line_color\":null,\"group\":null,\"ticker\":null},\"id\":\"1919\",\"type\":\"Grid\"},{\"attributes\":{\"child\":{\"id\":\"1898\"},\"name\":\"Column02192\",\"title\":\"Refresh weather Dashboard\"},\"id\":\"2087\",\"type\":\"Panel\"},{\"attributes\":{\"data\":{\"Temprature\":{\"__ndarray__\":\"uB6F61GYVEApXI/C9ShSQAAAAAAAsFNA\",\"dtype\":\"float64\",\"order\":\"little\",\"shape\":[3]},\"color\":{\"__ndarray__\":\"uB6F61GYVEApXI/C9ShSQAAAAAAAsFNA\",\"dtype\":\"float64\",\"order\":\"little\",\"shape\":[3]},\"name\":[\"Dhaka\",\"Chittagong\",\"Kolkata\"],\"x\":{\"__ndarray__\":\"aBVsNx0yY0G37gqtgG1jQVCALcBaw2JB\",\"dtype\":\"float64\",\"order\":\"little\",\"shape\":[3]},\"y\":{\"__ndarray__\":\"9J4TS+e8REF3ifMB/gBEQXwL2LQvr0NB\",\"dtype\":\"float64\",\"order\":\"little\",\"shape\":[3]}},\"selected\":{\"id\":\"1989\"},\"selection_policy\":{\"id\":\"2009\"}},\"id\":\"1988\",\"type\":\"ColumnDataSource\"},{\"attributes\":{\"source\":{\"id\":\"2068\"}},\"id\":\"2082\",\"type\":\"CDSView\"},{\"attributes\":{},\"id\":\"1942\",\"type\":\"AllLabels\"},{\"attributes\":{\"labels\":[\"Scroll\"],\"margin\":[5,10,5,10]},\"id\":\"1895\",\"type\":\"CheckboxGroup\"},{\"attributes\":{\"bar_line_color\":\"black\",\"color_mapper\":{\"id\":\"1987\"},\"coordinates\":null,\"group\":null,\"label_standoff\":8,\"location\":[0,0],\"major_label_policy\":{\"id\":\"2007\"},\"major_tick_line_color\":\"black\",\"ticker\":{\"id\":\"1998\"}},\"id\":\"1999\",\"type\":\"ColorBar\"},{\"attributes\":{\"axis_label\":\"x\",\"coordinates\":null,\"formatter\":{\"id\":\"1938\"},\"group\":null,\"major_label_policy\":{\"id\":\"1945\"},\"ticker\":{\"id\":\"1937\"}},\"id\":\"1916\",\"type\":\"LinearAxis\"},{\"attributes\":{\"match_aspect\":true,\"overlay\":{\"id\":\"1929\"}},\"id\":\"1927\",\"type\":\"BoxZoomTool\"},{\"attributes\":{\"fill_color\":{\"field\":\"color\",\"transform\":{\"id\":\"1987\"}},\"hatch_color\":{\"field\":\"color\",\"transform\":{\"id\":\"1987\"}},\"line_color\":{\"field\":\"color\",\"transform\":{\"id\":\"1987\"}},\"size\":{\"value\":5.477225575051661},\"x\":{\"field\":\"x\"},\"y\":{\"field\":\"y\"}},\"id\":\"1991\",\"type\":\"Scatter\"},{\"attributes\":{\"margin\":[0,0,0,0],\"tabs\":[{\"id\":\"1897\"},{\"id\":\"2087\"}]},\"id\":\"1875\",\"type\":\"Tabs\"},{\"attributes\":{},\"id\":\"1925\",\"type\":\"PanTool\"},{\"attributes\":{},\"id\":\"1924\",\"type\":\"SaveTool\"},{\"attributes\":{\"axis\":{\"id\":\"1920\"},\"coordinates\":null,\"dimension\":1,\"grid_line_color\":null,\"group\":null,\"ticker\":null},\"id\":\"1923\",\"type\":\"Grid\"},{\"attributes\":{\"icon\":null,\"label\":\"Refresh\",\"margin\":[5,10,5,10],\"subscribed_events\":[\"button_click\"]},\"id\":\"1900\",\"type\":\"Button\"},{\"attributes\":{\"axis_label\":\"y\",\"coordinates\":null,\"formatter\":{\"id\":\"1956\"},\"group\":null,\"major_label_policy\":{\"id\":\"1942\"},\"ticker\":{\"id\":\"1955\"}},\"id\":\"1920\",\"type\":\"LinearAxis\"},{\"attributes\":{},\"id\":\"2070\",\"type\":\"StringFormatter\"},{\"attributes\":{\"low\":0,\"margin\":[5,10,5,10],\"mode\":\"int\",\"placeholder\":\"0\",\"title\":\"Width\",\"value\":0,\"value_throttled\":0},\"id\":\"1882\",\"type\":\"Spinner\"},{\"attributes\":{\"labels\":[\"Loading\"],\"margin\":[5,10,5,10]},\"id\":\"1893\",\"type\":\"CheckboxGroup\"},{\"attributes\":{},\"id\":\"2007\",\"type\":\"NoOverlap\"},{\"attributes\":{},\"id\":\"1914\",\"type\":\"LinearScale\"},{\"attributes\":{\"zoom_on_axis\":false},\"id\":\"1926\",\"type\":\"WheelZoomTool\"},{\"attributes\":{},\"id\":\"1912\",\"type\":\"LinearScale\"},{\"attributes\":{\"children\":[{\"id\":\"1900\"},{\"id\":\"1901\"}],\"margin\":[0,0,0,0],\"min_width\":300,\"name\":\"refresh_weather_dashboard\",\"width\":300},\"id\":\"1899\",\"type\":\"Column\"},{\"attributes\":{\"callback\":null,\"renderers\":[{\"id\":\"1996\"}],\"tags\":[\"hv_created\"],\"tooltips\":[[\"x\",\"@{x}\"],[\"y\",\"@{y}\"],[\"Temprature\",\"@{Temprature}\"],[\"name\",\"@{name}\"]]},\"id\":\"1906\",\"type\":\"HoverTool\"},{\"attributes\":{},\"id\":\"1945\",\"type\":\"AllLabels\"}],\"root_ids\":[\"1875\",\"2115\"]},\"title\":\"Bokeh Application\",\"version\":\"2.4.2\"}};\n",
       "    var render_items = [{\"docid\":\"7dc37330-92d2-40ab-8e98-849242821f70\",\"root_ids\":[\"1875\"],\"roots\":{\"1875\":\"048d0994-f1dc-4c25-9502-51dee3aeaf4b\"}}];\n",
       "    root.Bokeh.embed.embed_items_notebook(docs_json, render_items);\n",
       "  }\n",
       "  if (root.Bokeh !== undefined && root.Bokeh.Panel !== undefined) {\n",
       "    embed_document(root);\n",
       "  } else {\n",
       "    var attempts = 0;\n",
       "    var timer = setInterval(function(root) {\n",
       "      if (root.Bokeh !== undefined && root.Bokeh.Panel !== undefined) {\n",
       "        clearInterval(timer);\n",
       "        embed_document(root);\n",
       "      } else if (document.readyState == \"complete\") {\n",
       "        attempts++;\n",
       "        if (attempts > 200) {\n",
       "          clearInterval(timer);\n",
       "          console.log(\"Bokeh: ERROR: Unable to run BokehJS code because BokehJS library is missing\");\n",
       "        }\n",
       "      }\n",
       "    }, 25, root)\n",
       "  }\n",
       "})(window);</script>"
      ],
      "text/plain": [
       "Tabs\n",
       "    [0] Column(margin=5, name='Real Time', width=300)\n",
       "        [0] StaticText(value='<b>Real Time</b>')\n",
       "        [1] LiteralInput(name='Align', value='start')\n",
       "        [2] LiteralInput(name='Aspect ratio')\n",
       "        [3] LiteralInput(name='Background')\n",
       "        [4] ListInput(name='Css classes', type=<class 'list'>)\n",
       "        [5] IntInput(name='Width', start=0)\n",
       "        [6] IntInput(name='Height', start=0)\n",
       "        [7] IntInput(name='Min width', start=0)\n",
       "        [8] IntInput(name='Min height', start=0)\n",
       "        [9] IntInput(name='Max width', start=0)\n",
       "        [10] IntInput(name='Max height', start=0)\n",
       "        [11] LiteralInput(name='Margin', value=0)\n",
       "        [12] Select(name='Width policy', options=OrderedDict([('auto', ...]), value='auto')\n",
       "        [13] Select(name='Height policy', options=OrderedDict([('auto', ...]), value='auto')\n",
       "        [14] Select(name='Sizing mode', options=OrderedDict([('fixed', ...]))\n",
       "        [15] Checkbox(name='Visible', value=True)\n",
       "        [16] Checkbox(name='Loading')\n",
       "        [17] ListInput(name='Objects', type=<class 'list'>)\n",
       "        [18] Checkbox(name='Scroll')\n",
       "        [19] LiteralInput(name='Row sizing')\n",
       "    [1] Column(width=400)\n",
       "        [0] Column(name='refresh_weather_dashboard..., width=300)\n",
       "            [0] Button(name='Refresh')\n",
       "            [1] Select(options=OrderedDict([('Temprature'...]), value='Temprature')\n",
       "        [1] ParamMethod(method)"
      ]
     },
     "execution_count": 12,
     "metadata": {
      "application/vnd.holoviews_exec.v0+json": {
       "id": "1875"
      }
     },
     "output_type": "execute_result"
    }
   ],
   "source": [
    "pan=pn.Tabs(\n",
    "('Real Time',pn_realtime),\n",
    "    ('Refresh weather Dashboard',pn_weather)\n",
    ").servable()\n",
    "pan"
   ]
  },
  {
   "cell_type": "code",
   "execution_count": null,
   "id": "cf28b3ea",
   "metadata": {},
   "outputs": [],
   "source": []
  },
  {
   "cell_type": "code",
   "execution_count": null,
   "id": "458dbb83",
   "metadata": {},
   "outputs": [],
   "source": []
  },
  {
   "cell_type": "code",
   "execution_count": null,
   "id": "ab67ecc1",
   "metadata": {},
   "outputs": [],
   "source": []
  },
  {
   "cell_type": "code",
   "execution_count": null,
   "id": "21178b2d",
   "metadata": {},
   "outputs": [],
   "source": []
  },
  {
   "cell_type": "code",
   "execution_count": null,
   "id": "a0aef936",
   "metadata": {},
   "outputs": [],
   "source": []
  },
  {
   "cell_type": "code",
   "execution_count": null,
   "id": "70fb5c0f",
   "metadata": {},
   "outputs": [],
   "source": []
  },
  {
   "cell_type": "code",
   "execution_count": null,
   "id": "0ccb8bff",
   "metadata": {},
   "outputs": [],
   "source": []
  },
  {
   "cell_type": "code",
   "execution_count": null,
   "id": "bc07070d",
   "metadata": {},
   "outputs": [],
   "source": []
  },
  {
   "cell_type": "code",
   "execution_count": null,
   "id": "8700eff1",
   "metadata": {},
   "outputs": [],
   "source": []
  },
  {
   "cell_type": "code",
   "execution_count": null,
   "id": "96e4cb55",
   "metadata": {},
   "outputs": [],
   "source": []
  }
 ],
 "metadata": {
  "kernelspec": {
   "display_name": "Python 3 (ipykernel)",
   "language": "python",
   "name": "python3"
  },
  "language_info": {
   "codemirror_mode": {
    "name": "ipython",
    "version": 3
   },
   "file_extension": ".py",
   "mimetype": "text/x-python",
   "name": "python",
   "nbconvert_exporter": "python",
   "pygments_lexer": "ipython3",
   "version": "3.8.10"
  }
 },
 "nbformat": 4,
 "nbformat_minor": 5
}
